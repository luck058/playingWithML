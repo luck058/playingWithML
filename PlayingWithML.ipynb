{
  "nbformat": 4,
  "nbformat_minor": 0,
  "metadata": {
    "colab": {
      "provenance": [],
      "gpuType": "T4",
      "collapsed_sections": [
        "2sTFQGl9nlA7",
        "Ck9CSPgF0Mtd",
        "YNXXRfkeQgU3",
        "VmebdNFxQkSY",
        "TpHi9TcTQnSo",
        "tdqBF3gDQzOp"
      ],
      "authorship_tag": "ABX9TyOIluoZSAAX73UWNdr1yDfT",
      "include_colab_link": true
    },
    "kernelspec": {
      "name": "python3",
      "display_name": "Python 3"
    },
    "language_info": {
      "name": "python"
    }
  },
  "cells": [
    {
      "cell_type": "markdown",
      "metadata": {
        "id": "view-in-github",
        "colab_type": "text"
      },
      "source": [
        "<a href=\"https://colab.research.google.com/github/luck058/playingWithML/blob/main/PlayingWithML.ipynb\" target=\"_parent\"><img src=\"https://colab.research.google.com/assets/colab-badge.svg\" alt=\"Open In Colab\"/></a>"
      ]
    },
    {
      "cell_type": "markdown",
      "source": [
        "## https://www.youtube.com/watch?v=c36lUUr864M\n",
        "Pt. 13"
      ],
      "metadata": {
        "id": "2sTFQGl9nlA7"
      }
    },
    {
      "cell_type": "code",
      "execution_count": null,
      "metadata": {
        "id": "3XU3brMgnhab"
      },
      "outputs": [],
      "source": [
        "if False:\n",
        "  import torch\n",
        "  import torch.nn as nn\n",
        "  import torchvision\n",
        "  import torchvision.transforms as transforms\n",
        "  import matplotlib.pyplot as plt\n",
        "\n",
        "  # Device configuration\n",
        "  device = torch.device('cuda' if torch.cuda.is_available() else 'cpu')\n",
        "\n",
        "  # Hyper-parameters\n",
        "  input_size = 784 # 28x28\n",
        "  hidden_size = 500\n",
        "  num_classes = 10\n",
        "  num_epochs = 2\n",
        "  batch_size = 100\n",
        "  learning_rate = 0.001\n",
        "\n",
        "  # MNIST dataset\n",
        "  train_dataset = torchvision.datasets.MNIST(root='./data',\n",
        "                                            train=True,\n",
        "                                            transform=transforms.ToTensor(),\n",
        "                                            download=True)\n",
        "\n",
        "  test_dataset = torchvision.datasets.MNIST(root='./data',\n",
        "                                            train=False,\n",
        "                                            transform=transforms.ToTensor())\n",
        "\n",
        "  # Data loader\n",
        "  train_loader = torch.utils.data.DataLoader(dataset=train_dataset,\n",
        "                                            batch_size=batch_size,\n",
        "                                            shuffle=True)\n",
        "\n",
        "  test_loader = torch.utils.data.DataLoader(dataset=test_dataset,\n",
        "                                            batch_size=batch_size,\n",
        "                                            shuffle=False)\n",
        "\n",
        "  examples = iter(test_loader)\n",
        "  example_data, example_targets = next(examples)\n",
        "\n",
        "  for i in range(6):\n",
        "      plt.subplot(2,3,i+1)\n",
        "      plt.imshow(example_data[i][0], cmap='gray')\n",
        "  plt.show()\n",
        "\n",
        "  # Fully connected neural network with one hidden layer\n",
        "  class NeuralNet(nn.Module):\n",
        "      def __init__(self, input_size, hidden_size, num_classes):\n",
        "          super(NeuralNet, self).__init__()\n",
        "          self.input_size = input_size\n",
        "          self.l1 = nn.Linear(input_size, hidden_size)\n",
        "          self.relu = nn.ReLU()\n",
        "          self.l2 = nn.Linear(hidden_size, num_classes)\n",
        "\n",
        "      def forward(self, x):\n",
        "          out = self.l1(x)\n",
        "          out = self.relu(out)\n",
        "          out = self.l2(out)\n",
        "          # no activation and no softmax at the end\n",
        "          return out\n",
        "\n",
        "  model = NeuralNet(input_size, hidden_size, num_classes).to(device)\n",
        "\n",
        "  # Loss and optimizer\n",
        "  criterion = nn.CrossEntropyLoss()\n",
        "  optimizer = torch.optim.Adam(model.parameters(), lr=learning_rate)\n",
        "\n",
        "  # Train the model\n",
        "  n_total_steps = len(train_loader)\n",
        "  for epoch in range(num_epochs):\n",
        "      for i, (images, labels) in enumerate(train_loader):\n",
        "          # origin shape: [100, 1, 28, 28]\n",
        "          # resized: [100, 784]\n",
        "          images = images.reshape(-1, 28*28).to(device)\n",
        "          labels = labels.to(device)\n",
        "\n",
        "          # Forward pass\n",
        "          outputs = model(images)\n",
        "          print(\"#################\")\n",
        "          print(\"outputs:\", outputs.shape)\n",
        "          print(\"###############\")\n",
        "          print(\"inputs:\", images.shape)\n",
        "          break\n",
        "          loss = criterion(outputs, labels)\n",
        "\n",
        "          # Backward and optimize\n",
        "          optimizer.zero_grad()\n",
        "          loss.backward()\n",
        "          optimizer.step()\n",
        "\n",
        "          if (i+1) % 100 == 0:\n",
        "              print (f'Epoch [{epoch+1}/{num_epochs}], Step [{i+1}/{n_total_steps}], Loss: {loss.item():.4f}')\n",
        "\n",
        "  # Test the model\n",
        "  # In test phase, we don't need to compute gradients (for memory efficiency)\n",
        "  with torch.no_grad():\n",
        "      n_correct = 0\n",
        "      n_samples = 0\n",
        "      for images, labels in test_loader:\n",
        "          images = images.reshape(-1, 28*28).to(device)\n",
        "          labels = labels.to(device)\n",
        "          outputs = model(images)\n",
        "          # max returns (value ,index)\n",
        "          _, predicted = torch.max(outputs.data, 1)\n",
        "          n_samples += labels.size(0)\n",
        "          n_correct += (predicted == labels).sum().item()\n",
        "\n",
        "      acc = 100.0 * n_correct / n_samples\n",
        "      print(f'Accuracy of the network on the 10000 test images: {acc} %')\n"
      ]
    },
    {
      "cell_type": "markdown",
      "source": [
        "## Imports/config"
      ],
      "metadata": {
        "id": "Ck9CSPgF0Mtd"
      }
    },
    {
      "cell_type": "markdown",
      "source": [
        "### Imports"
      ],
      "metadata": {
        "id": "j8Sl3sxPQPkV"
      }
    },
    {
      "cell_type": "code",
      "source": [
        "import torch\n",
        "import torch.nn as nn\n",
        "import torchvision\n",
        "import torchvision.transforms as transforms\n",
        "import matplotlib.pyplot as plt\n",
        "\n",
        "from torch.utils.data import Dataset, DataLoader\n",
        "import math"
      ],
      "metadata": {
        "id": "N1OjHWErQRUl"
      },
      "execution_count": null,
      "outputs": []
    },
    {
      "cell_type": "markdown",
      "source": [
        "### Device configuration"
      ],
      "metadata": {
        "id": "UKu1ulmXQU0e"
      }
    },
    {
      "cell_type": "code",
      "source": [
        "# Device configuration\n",
        "device = torch.device('cuda' if torch.cuda.is_available() else 'cpu')"
      ],
      "metadata": {
        "id": "6T_gHZKQQY6L"
      },
      "execution_count": null,
      "outputs": []
    },
    {
      "cell_type": "markdown",
      "source": [
        "## Hyperparameters"
      ],
      "metadata": {
        "id": "AGZktls0QJ8s"
      }
    },
    {
      "cell_type": "code",
      "source": [
        "input_size = 5\n",
        "output_size = 1\n",
        "hidden_size = 500\n",
        "num_epochs = 10\n",
        "batch_size = 4\n",
        "learning_rate = 0.001\n"
      ],
      "metadata": {
        "id": "ZAOTbHc-QHmV"
      },
      "execution_count": null,
      "outputs": []
    },
    {
      "cell_type": "markdown",
      "source": [
        "## Data"
      ],
      "metadata": {
        "id": "YNXXRfkeQgU3"
      }
    },
    {
      "cell_type": "markdown",
      "source": [
        "### Import data"
      ],
      "metadata": {
        "id": "VmebdNFxQkSY"
      }
    },
    {
      "cell_type": "code",
      "source": [
        "class LinearDataset(Dataset):\n",
        "  def __init__(self, train):\n",
        "    self.x = []\n",
        "    self.y = []\n",
        "    self.x_test = []\n",
        "    self.y_test = []\n",
        "    self.train = train\n",
        "\n",
        "    # Includes test and training data\n",
        "    num_samples = 50\n",
        "\n",
        "    full_graph = torch.tensor([2*(i) for i in range(num_samples + input_size + output_size)], dtype=torch.float32)\n",
        "\n",
        "    for i in range(len(full_graph) - input_size - output_size):\n",
        "      if i%10 != 0:\n",
        "        self.x.append(full_graph[i : i+input_size])\n",
        "        self.y.append(full_graph[i+input_size : i+input_size+output_size])\n",
        "      else:\n",
        "        self.x_test.append(full_graph[i : i+input_size])\n",
        "        self.y_test.append(full_graph[i+input_size : i+input_size+output_size])\n",
        "\n",
        "  def __getitem__(self, index):\n",
        "    if self.train:\n",
        "      return self.x[index], self.y[index]\n",
        "    else:\n",
        "      return self.x_test[index], self.y_test[index]\n",
        "\n",
        "  def __len__(self):\n",
        "    if self.train:\n",
        "      return len(self.x)\n",
        "    else:\n",
        "      return len(self.x_test)\n",
        "\n",
        "\n",
        "training_dataset = LinearDataset(train=True)\n",
        "testing_dataset = LinearDataset(train=False)\n",
        "\n",
        "train_loader = DataLoader(dataset=training_dataset, batch_size=batch_size, shuffle=True)\n",
        "test_loader = DataLoader(dataset=testing_dataset, batch_size=batch_size, shuffle=False)\n",
        "\n",
        "total_samples = len(training_dataset)\n",
        "\n",
        "print(\"Length of training data:\", len(training_dataset))\n",
        "print(\"Length of test data:\", len(testing_dataset))"
      ],
      "metadata": {
        "id": "q-t0YKaJQmXw",
        "colab": {
          "base_uri": "https://localhost:8080/"
        },
        "outputId": "edd1c9b6-5d38-4c74-a3c3-a7a013c7b4a0"
      },
      "execution_count": null,
      "outputs": [
        {
          "output_type": "stream",
          "name": "stdout",
          "text": [
            "Length of training data: 45\n",
            "Length of test data: 5\n"
          ]
        }
      ]
    },
    {
      "cell_type": "markdown",
      "source": [
        "### Visualise data"
      ],
      "metadata": {
        "id": "TpHi9TcTQnSo"
      }
    },
    {
      "cell_type": "code",
      "source": [
        "dataiter = iter(train_loader)\n",
        "(inputs, labels) = next(dataiter)\n",
        "for i in range(batch_size):\n",
        "  plt.subplot(2,math.ceil(batch_size/2),i+1)\n",
        "  print(inputs[i])\n",
        "  print(labels[i])\n",
        "  plt.plot(inputs[i], 'b+')\n",
        "  plt.plot(input_size, labels[i], 'r+')\n",
        "\n",
        "plt.show()"
      ],
      "metadata": {
        "id": "-cjkG2uvQpKo",
        "colab": {
          "base_uri": "https://localhost:8080/",
          "height": 569
        },
        "outputId": "f159d4bf-0410-40b0-ac6a-c33fd3a9c2a5"
      },
      "execution_count": null,
      "outputs": [
        {
          "output_type": "stream",
          "name": "stdout",
          "text": [
            "tensor([84., 86., 88., 90., 92.])\n",
            "tensor([94.])\n",
            "tensor([10., 12., 14., 16., 18.])\n",
            "tensor([20.])\n",
            "tensor([14., 16., 18., 20., 22.])\n",
            "tensor([24.])\n",
            "tensor([32., 34., 36., 38., 40.])\n",
            "tensor([42.])\n"
          ]
        },
        {
          "output_type": "display_data",
          "data": {
            "text/plain": [
              "<Figure size 640x480 with 4 Axes>"
            ],
            "image/png": "[encoded data removed]"
          },
          "metadata": {}
        }
      ]
    },
    {
      "cell_type": "markdown",
      "source": [
        "## Other function definitions"
      ],
      "metadata": {
        "id": "zg-NMY50dmW4"
      }
    },
    {
      "cell_type": "code",
      "source": [
        "def get_test_loss(model, test_loader):\n",
        "    with torch.no_grad():\n",
        "      for i, (test_inputs, test_labels) in enumerate(test_loader):\n",
        "          test_outputs = model(test_inputs)\n",
        "          test_loss = criterion(test_outputs, test_labels)\n",
        "      return test_loss"
      ],
      "metadata": {
        "id": "cd9vetTqdpwl"
      },
      "execution_count": null,
      "outputs": []
    },
    {
      "cell_type": "markdown",
      "source": [
        "## Model"
      ],
      "metadata": {
        "id": "zMxs9XclQxQB"
      }
    },
    {
      "cell_type": "markdown",
      "source": [
        "### Model definition"
      ],
      "metadata": {
        "id": "tdqBF3gDQzOp"
      }
    },
    {
      "cell_type": "code",
      "source": [
        "# Fully connected neural network with one hidden layer\n",
        "class NeuralNet(nn.Module):\n",
        "    def __init__(self, input_size, hidden_size, num_classes):\n",
        "        super(NeuralNet, self).__init__()\n",
        "        self.input_size = input_size\n",
        "        self.l1 = nn.Linear(input_size, hidden_size)\n",
        "        self.relu = nn.ReLU()\n",
        "        self.l2 = nn.Linear(hidden_size, output_size)\n",
        "\n",
        "        self.l = nn.Linear(input_size, output_size)\n",
        "\n",
        "    def forward(self, x):\n",
        "        out = self.l1(x)\n",
        "        out = self.relu(out)\n",
        "        out = self.l2(out)\n",
        "        #out = self.l(x)\n",
        "        # no activation and no softmax at the end\n",
        "        return out"
      ],
      "metadata": {
        "id": "F4P10KAxQ0eY"
      },
      "execution_count": null,
      "outputs": []
    },
    {
      "cell_type": "markdown",
      "source": [
        "### Model, loss and optimiser"
      ],
      "metadata": {
        "id": "5edj7rcuQ-rT"
      }
    },
    {
      "cell_type": "code",
      "source": [
        "model = NeuralNet(input_size, hidden_size, output_size).to(device)\n",
        "loss_history = []\n",
        "test_history = []\n",
        "\n",
        "# Loss and optimizer\n",
        "criterion = nn.MSELoss()\n",
        "optimizer = torch.optim.Adam(model.parameters(), lr=learning_rate)"
      ],
      "metadata": {
        "id": "DUVDczgXRBBb"
      },
      "execution_count": null,
      "outputs": []
    },
    {
      "cell_type": "markdown",
      "source": [
        "## Training loop"
      ],
      "metadata": {
        "id": "jz_ReLJkRNO8"
      }
    },
    {
      "cell_type": "code",
      "source": [
        "# Train the model\n",
        "n_total_steps = len(train_loader)\n",
        "test_history.append(get_test_loss(model, test_loader))\n",
        "\n",
        "for epoch in range(num_epochs):\n",
        "    loss_history.append([])\n",
        "    for i, (inputs, labels) in enumerate(train_loader):\n",
        "        inputs = inputs.to(device)\n",
        "        labels = labels.to(device)\n",
        "\n",
        "        # Forward pass\n",
        "        outputs = model(inputs)\n",
        "        loss = criterion(outputs, labels)\n",
        "\n",
        "        # Backward and optimize\n",
        "        optimizer.zero_grad()\n",
        "        loss.backward()\n",
        "        optimizer.step()\n",
        "\n",
        "        loss_history[-1].append(loss)\n",
        "\n",
        "        if (i+1) % (n_total_steps//1) == 0:\n",
        "            print (f'Epoch [{epoch+1}/{num_epochs}], Step [{i+1}/{n_total_steps}], Loss: {loss.item():.4f}')\n",
        "\n",
        "    # Find loss on test data\n",
        "    test_history.append(get_test_loss(model, test_loader))"
      ],
      "metadata": {
        "id": "XVAwD28qROwN",
        "colab": {
          "base_uri": "https://localhost:8080/"
        },
        "outputId": "962ffd7c-30f5-49fc-f6a0-efa08e4376d0"
      },
      "execution_count": null,
      "outputs": [
        {
          "output_type": "stream",
          "name": "stdout",
          "text": [
            "Epoch [1/10], Step [12/12], Loss: 0.0001\n",
            "Epoch [2/10], Step [12/12], Loss: 0.0000\n",
            "Epoch [3/10], Step [12/12], Loss: 0.0000\n",
            "Epoch [4/10], Step [12/12], Loss: 0.0000\n",
            "Epoch [5/10], Step [12/12], Loss: 0.0001\n",
            "Epoch [6/10], Step [12/12], Loss: 0.0000\n",
            "Epoch [7/10], Step [12/12], Loss: 0.0000\n",
            "Epoch [8/10], Step [12/12], Loss: 0.0000\n",
            "Epoch [9/10], Step [12/12], Loss: 0.0000\n",
            "Epoch [10/10], Step [12/12], Loss: 0.0001\n"
          ]
        }
      ]
    },
    {
      "cell_type": "markdown",
      "source": [
        "## Testing"
      ],
      "metadata": {
        "id": "Tz1dw54zRR9G"
      }
    },
    {
      "cell_type": "markdown",
      "source": [
        "### Loss graph"
      ],
      "metadata": {
        "id": "yXoUfMp_vMWU"
      }
    },
    {
      "cell_type": "code",
      "source": [
        "# Test the model\n",
        "# In test phase, we don't need to compute gradients (for memory efficiency)\n",
        "first_epoch_shown = 2\n",
        "last_epoch_shown = 10\n",
        "\n",
        "fig, ax = plt.subplots()\n",
        "\n",
        "last_plotted_point = [loss_history[0][0]]\n",
        "\n",
        "with torch.no_grad():\n",
        "  # Plot the data from the given epoch. Also plots the last datapoint from the previous epoch so the lines join nicely\n",
        "  epoch_length = len(loss_history[0])\n",
        "  for epoch, loss_hist_epoch in enumerate(loss_history):\n",
        "    if epoch_length != len(loss_hist_epoch):\n",
        "      print(\"Epoch length changes\")\n",
        "\n",
        "    if epoch >= first_epoch_shown and epoch <= min(last_epoch_shown, len(loss_history)):\n",
        "      start_epoch_step = epoch * epoch_length\n",
        "      start_next_epoch_step = (epoch+1) * epoch_length\n",
        "      # Plot loss graph of training data\n",
        "      ax.plot(list(range(start_epoch_step-1, start_next_epoch_step)), last_plotted_point + loss_hist_epoch)\n",
        "\n",
        "    last_plotted_point = [loss_hist_epoch[-1]]\n",
        "\n",
        "  ax.plot(list(range(first_epoch_shown*len(), last_epoch_shown)), test_history)\n",
        "\n",
        "  ax.set_xlabel(\"Steps\")\n",
        "  ax.set_ylabel(\"Loss\")\n",
        "  secax = ax.secondary_xaxis('top', functions=(lambda x: x/len(loss_hist_epoch), lambda x: x*len(loss_hist_epoch)))\n",
        "  secax.set_xlabel(\"Epochs\")\n",
        "  plt.show()"
      ],
      "metadata": {
        "id": "jE9pDsdlRTAl",
        "colab": {
          "base_uri": "https://localhost:8080/",
          "height": 490
        },
        "outputId": "de44c84e-01fc-4d80-dd1b-def30aeb80a0"
      },
      "execution_count": null,
      "outputs": [
        {
          "output_type": "display_data",
          "data": {
            "text/plain": [
              "<Figure size 640x480 with 1 Axes>"
            ],
            "image/png": "[encoded data removed]"
          },
          "metadata": {}
        }
      ]
    },
    {
      "cell_type": "markdown",
      "source": [
        "### Final model prediction on test data"
      ],
      "metadata": {
        "id": "Mpv_8mxMvOpl"
      }
    },
    {
      "cell_type": "code",
      "source": [
        "with torch.no_grad():\n",
        "    outputs = model(inputs)"
      ],
      "metadata": {
        "id": "o2NFY6qkvUHK"
      },
      "execution_count": null,
      "outputs": []
    },
    {
      "cell_type": "markdown",
      "source": [
        "## Test functions"
      ],
      "metadata": {
        "id": "swWnklg94Ej4"
      }
    },
    {
      "cell_type": "code",
      "source": [
        "a = [1,2,3]\n",
        "print(a[1:5])"
      ],
      "metadata": {
        "colab": {
          "base_uri": "https://localhost:8080/"
        },
        "id": "2NAhMNrk4IY_",
        "outputId": "397927a5-2fbb-4b03-f2be-c84514bb9397"
      },
      "execution_count": null,
      "outputs": [
        {
          "output_type": "stream",
          "name": "stdout",
          "text": [
            "[2, 3]\n"
          ]
        }
      ]
    }
  ]
}