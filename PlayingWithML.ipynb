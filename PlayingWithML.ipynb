{
  "cells": [
    {
      "cell_type": "markdown",
      "metadata": {
        "id": "view-in-github",
        "colab_type": "text"
      },
      "source": [
        "<a href=\"https://colab.research.google.com/github/luck058/playingWithML/blob/mlflow/PlayingWithML.ipynb\" target=\"_parent\"><img src=\"https://colab.research.google.com/assets/colab-badge.svg\" alt=\"Open In Colab\"/></a>"
      ]
    },
    {
      "cell_type": "markdown",
      "metadata": {
        "id": "2sTFQGl9nlA7"
      },
      "source": [
        "## https://www.youtube.com/watch?v=c36lUUr864M\n",
        "Pt. 13"
      ]
    },
    {
      "cell_type": "markdown",
      "metadata": {
        "id": "Ck9CSPgF0Mtd"
      },
      "source": [
        "## Imports/config"
      ]
    },
    {
      "cell_type": "markdown",
      "metadata": {
        "id": "j8Sl3sxPQPkV"
      },
      "source": [
        "### Imports"
      ]
    },
    {
      "cell_type": "code",
      "execution_count": 1,
      "metadata": {
        "id": "N1OjHWErQRUl"
      },
      "outputs": [],
      "source": [
        "import torch\n",
        "import torch.nn as nn\n",
        "import torchvision\n",
        "import torchvision.transforms as transforms\n",
        "import matplotlib.pyplot as plt\n",
        "\n",
        "from torch.utils.data import Dataset, DataLoader\n",
        "import math"
      ]
    },
    {
      "cell_type": "markdown",
      "metadata": {
        "id": "Bg7Aq6g_ScSa"
      },
      "source": [
        "### Mount google drive"
      ]
    },
    {
      "cell_type": "markdown",
      "metadata": {
        "id": "0uu-f8RKSgH3"
      },
      "source": [
        "### Set up mlflow"
      ]
    },
    {
      "cell_type": "code",
      "execution_count": 4,
      "metadata": {
        "colab": {
          "base_uri": "https://localhost:8080/",
          "height": 478
        },
        "id": "bW0Y9sPnSlh9",
        "outputId": "dbc5727c-cf89-401e-eece-bc1618b5a669"
      },
      "outputs": [
        {
          "output_type": "stream",
          "name": "stdout",
          "text": [
            "Username: Aborted!\n",
            "^C\n"
          ]
        },
        {
          "output_type": "error",
          "ename": "PydanticUserError",
          "evalue": "ignored",
          "traceback": [
            "\u001b[0;31m---------------------------------------------------------------------------\u001b[0m",
            "\u001b[0;31mPydanticUserError\u001b[0m                         Traceback (most recent call last)",
            "\u001b[0;32m<ipython-input-4-a3dec961d605>\u001b[0m in \u001b[0;36m<cell line: 6>\u001b[0;34m()\u001b[0m\n\u001b[1;32m      4\u001b[0m \u001b[0mget_ipython\u001b[0m\u001b[0;34m(\u001b[0m\u001b[0;34m)\u001b[0m\u001b[0;34m.\u001b[0m\u001b[0msystem\u001b[0m\u001b[0;34m(\u001b[0m\u001b[0;34m'databricks configure --host https://community.cloud.databricks.com/'\u001b[0m\u001b[0;34m)\u001b[0m\u001b[0;34m\u001b[0m\u001b[0;34m\u001b[0m\u001b[0m\n\u001b[1;32m      5\u001b[0m \u001b[0;34m\u001b[0m\u001b[0m\n\u001b[0;32m----> 6\u001b[0;31m \u001b[0;32mimport\u001b[0m \u001b[0mmlflow\u001b[0m\u001b[0;34m\u001b[0m\u001b[0;34m\u001b[0m\u001b[0m\n\u001b[0m\u001b[1;32m      7\u001b[0m \u001b[0mmlflow\u001b[0m\u001b[0;34m.\u001b[0m\u001b[0mset_tracking_uri\u001b[0m\u001b[0;34m(\u001b[0m\u001b[0;34m\"databricks\"\u001b[0m\u001b[0;34m)\u001b[0m\u001b[0;34m\u001b[0m\u001b[0;34m\u001b[0m\u001b[0m\n\u001b[1;32m      8\u001b[0m \u001b[0mmlflow\u001b[0m\u001b[0;34m.\u001b[0m\u001b[0mset_experiment\u001b[0m\u001b[0;34m(\u001b[0m\u001b[0mexperiment_name\u001b[0m\u001b[0;34m)\u001b[0m\u001b[0;34m\u001b[0m\u001b[0;34m\u001b[0m\u001b[0m\n",
            "\u001b[0;32m/usr/local/lib/python3.10/dist-packages/mlflow/__init__.py\u001b[0m in \u001b[0;36m<module>\u001b[0;34m\u001b[0m\n\u001b[1;32m    245\u001b[0m \u001b[0;31m# Importing this module fails if they are not installed.\u001b[0m\u001b[0;34m\u001b[0m\u001b[0;34m\u001b[0m\u001b[0m\n\u001b[1;32m    246\u001b[0m \u001b[0;32mwith\u001b[0m \u001b[0mcontextlib\u001b[0m\u001b[0;34m.\u001b[0m\u001b[0msuppress\u001b[0m\u001b[0;34m(\u001b[0m\u001b[0mImportError\u001b[0m\u001b[0;34m)\u001b[0m\u001b[0;34m:\u001b[0m\u001b[0;34m\u001b[0m\u001b[0;34m\u001b[0m\u001b[0m\n\u001b[0;32m--> 247\u001b[0;31m     \u001b[0;32mfrom\u001b[0m \u001b[0mmlflow\u001b[0m \u001b[0;32mimport\u001b[0m \u001b[0mgateway\u001b[0m  \u001b[0;31m# noqa: F401\u001b[0m\u001b[0;34m\u001b[0m\u001b[0;34m\u001b[0m\u001b[0m\n\u001b[0m\u001b[1;32m    248\u001b[0m \u001b[0;34m\u001b[0m\u001b[0m\n\u001b[1;32m    249\u001b[0m     \u001b[0m__all__\u001b[0m\u001b[0;34m.\u001b[0m\u001b[0mappend\u001b[0m\u001b[0;34m(\u001b[0m\u001b[0;34m\"gateway\"\u001b[0m\u001b[0;34m)\u001b[0m\u001b[0;34m\u001b[0m\u001b[0;34m\u001b[0m\u001b[0m\n",
            "\u001b[0;32m/usr/local/lib/python3.10/dist-packages/mlflow/gateway/__init__.py\u001b[0m in \u001b[0;36m<module>\u001b[0;34m\u001b[0m\n\u001b[0;32m----> 1\u001b[0;31m \u001b[0;32mfrom\u001b[0m \u001b[0mmlflow\u001b[0m\u001b[0;34m.\u001b[0m\u001b[0mgateway\u001b[0m\u001b[0;34m.\u001b[0m\u001b[0mfluent\u001b[0m \u001b[0;32mimport\u001b[0m \u001b[0mget_route\u001b[0m\u001b[0;34m,\u001b[0m \u001b[0msearch_routes\u001b[0m\u001b[0;34m,\u001b[0m \u001b[0mquery\u001b[0m\u001b[0;34m,\u001b[0m \u001b[0mcreate_route\u001b[0m\u001b[0;34m,\u001b[0m \u001b[0mdelete_route\u001b[0m\u001b[0;34m\u001b[0m\u001b[0;34m\u001b[0m\u001b[0m\n\u001b[0m\u001b[1;32m      2\u001b[0m \u001b[0;32mfrom\u001b[0m \u001b[0mmlflow\u001b[0m\u001b[0;34m.\u001b[0m\u001b[0mgateway\u001b[0m\u001b[0;34m.\u001b[0m\u001b[0mutils\u001b[0m \u001b[0;32mimport\u001b[0m \u001b[0mset_gateway_uri\u001b[0m\u001b[0;34m,\u001b[0m \u001b[0mget_gateway_uri\u001b[0m\u001b[0;34m\u001b[0m\u001b[0;34m\u001b[0m\u001b[0m\n\u001b[1;32m      3\u001b[0m \u001b[0;32mfrom\u001b[0m \u001b[0mmlflow\u001b[0m\u001b[0;34m.\u001b[0m\u001b[0mgateway\u001b[0m\u001b[0;34m.\u001b[0m\u001b[0mclient\u001b[0m \u001b[0;32mimport\u001b[0m \u001b[0mMlflowGatewayClient\u001b[0m\u001b[0;34m\u001b[0m\u001b[0;34m\u001b[0m\u001b[0m\n\u001b[1;32m      4\u001b[0m \u001b[0;34m\u001b[0m\u001b[0m\n\u001b[1;32m      5\u001b[0m __all__ = [\n",
            "\u001b[0;32m/usr/local/lib/python3.10/dist-packages/mlflow/gateway/fluent.py\u001b[0m in \u001b[0;36m<module>\u001b[0;34m\u001b[0m\n\u001b[1;32m      2\u001b[0m \u001b[0;32mfrom\u001b[0m \u001b[0mtyping\u001b[0m \u001b[0;32mimport\u001b[0m \u001b[0mList\u001b[0m\u001b[0;34m,\u001b[0m \u001b[0mDict\u001b[0m\u001b[0;34m,\u001b[0m \u001b[0mAny\u001b[0m\u001b[0;34m\u001b[0m\u001b[0;34m\u001b[0m\u001b[0m\n\u001b[1;32m      3\u001b[0m \u001b[0;34m\u001b[0m\u001b[0m\n\u001b[0;32m----> 4\u001b[0;31m \u001b[0;32mfrom\u001b[0m \u001b[0mmlflow\u001b[0m\u001b[0;34m.\u001b[0m\u001b[0mgateway\u001b[0m\u001b[0;34m.\u001b[0m\u001b[0mclient\u001b[0m \u001b[0;32mimport\u001b[0m \u001b[0mMlflowGatewayClient\u001b[0m\u001b[0;34m\u001b[0m\u001b[0;34m\u001b[0m\u001b[0m\n\u001b[0m\u001b[1;32m      5\u001b[0m \u001b[0;32mfrom\u001b[0m \u001b[0mmlflow\u001b[0m\u001b[0;34m.\u001b[0m\u001b[0mgateway\u001b[0m\u001b[0;34m.\u001b[0m\u001b[0mconfig\u001b[0m \u001b[0;32mimport\u001b[0m \u001b[0mRoute\u001b[0m\u001b[0;34m\u001b[0m\u001b[0;34m\u001b[0m\u001b[0m\n\u001b[1;32m      6\u001b[0m \u001b[0;32mfrom\u001b[0m \u001b[0mmlflow\u001b[0m\u001b[0;34m.\u001b[0m\u001b[0mgateway\u001b[0m\u001b[0;34m.\u001b[0m\u001b[0mconstants\u001b[0m \u001b[0;32mimport\u001b[0m \u001b[0mMLFLOW_GATEWAY_SEARCH_ROUTES_PAGE_SIZE\u001b[0m\u001b[0;34m\u001b[0m\u001b[0;34m\u001b[0m\u001b[0m\n",
            "\u001b[0;32m/usr/local/lib/python3.10/dist-packages/mlflow/gateway/client.py\u001b[0m in \u001b[0;36m<module>\u001b[0;34m\u001b[0m\n\u001b[1;32m      6\u001b[0m \u001b[0;34m\u001b[0m\u001b[0m\n\u001b[1;32m      7\u001b[0m \u001b[0;32mfrom\u001b[0m \u001b[0mmlflow\u001b[0m \u001b[0;32mimport\u001b[0m \u001b[0mMlflowException\u001b[0m\u001b[0;34m\u001b[0m\u001b[0;34m\u001b[0m\u001b[0m\n\u001b[0;32m----> 8\u001b[0;31m \u001b[0;32mfrom\u001b[0m \u001b[0mmlflow\u001b[0m\u001b[0;34m.\u001b[0m\u001b[0mgateway\u001b[0m\u001b[0;34m.\u001b[0m\u001b[0mconfig\u001b[0m \u001b[0;32mimport\u001b[0m \u001b[0mRoute\u001b[0m\u001b[0;34m\u001b[0m\u001b[0;34m\u001b[0m\u001b[0m\n\u001b[0m\u001b[1;32m      9\u001b[0m from mlflow.gateway.constants import (\n\u001b[1;32m     10\u001b[0m     \u001b[0mMLFLOW_GATEWAY_CRUD_ROUTE_BASE\u001b[0m\u001b[0;34m,\u001b[0m\u001b[0;34m\u001b[0m\u001b[0;34m\u001b[0m\u001b[0m\n",
            "\u001b[0;32m/usr/local/lib/python3.10/dist-packages/mlflow/gateway/config.py\u001b[0m in \u001b[0;36m<module>\u001b[0;34m\u001b[0m\n\u001b[1;32m     64\u001b[0m \u001b[0;34m\u001b[0m\u001b[0m\n\u001b[1;32m     65\u001b[0m \u001b[0;34m\u001b[0m\u001b[0m\n\u001b[0;32m---> 66\u001b[0;31m \u001b[0;32mclass\u001b[0m \u001b[0mOpenAIConfig\u001b[0m\u001b[0;34m(\u001b[0m\u001b[0mConfigModel\u001b[0m\u001b[0;34m)\u001b[0m\u001b[0;34m:\u001b[0m\u001b[0;34m\u001b[0m\u001b[0;34m\u001b[0m\u001b[0m\n\u001b[0m\u001b[1;32m     67\u001b[0m     \u001b[0mopenai_api_key\u001b[0m\u001b[0;34m:\u001b[0m \u001b[0mstr\u001b[0m\u001b[0;34m\u001b[0m\u001b[0;34m\u001b[0m\u001b[0m\n\u001b[1;32m     68\u001b[0m     \u001b[0mopenai_api_type\u001b[0m\u001b[0;34m:\u001b[0m \u001b[0mOpenAIAPIType\u001b[0m \u001b[0;34m=\u001b[0m \u001b[0mOpenAIAPIType\u001b[0m\u001b[0;34m.\u001b[0m\u001b[0mOPENAI\u001b[0m\u001b[0;34m\u001b[0m\u001b[0;34m\u001b[0m\u001b[0m\n",
            "\u001b[0;32m/usr/local/lib/python3.10/dist-packages/mlflow/gateway/config.py\u001b[0m in \u001b[0;36mOpenAIConfig\u001b[0;34m()\u001b[0m\n\u001b[1;32m     77\u001b[0m         \u001b[0;32mreturn\u001b[0m \u001b[0m_resolve_api_key_from_input\u001b[0m\u001b[0;34m(\u001b[0m\u001b[0mvalue\u001b[0m\u001b[0;34m)\u001b[0m\u001b[0;34m\u001b[0m\u001b[0;34m\u001b[0m\u001b[0m\n\u001b[1;32m     78\u001b[0m \u001b[0;34m\u001b[0m\u001b[0m\n\u001b[0;32m---> 79\u001b[0;31m     \u001b[0;34m@\u001b[0m\u001b[0mroot_validator\u001b[0m\u001b[0;34m(\u001b[0m\u001b[0mpre\u001b[0m\u001b[0;34m=\u001b[0m\u001b[0;32mFalse\u001b[0m\u001b[0;34m)\u001b[0m\u001b[0;34m\u001b[0m\u001b[0;34m\u001b[0m\u001b[0m\n\u001b[0m\u001b[1;32m     80\u001b[0m     \u001b[0;32mdef\u001b[0m \u001b[0mvalidate_field_compatibility\u001b[0m\u001b[0;34m(\u001b[0m\u001b[0mcls\u001b[0m\u001b[0;34m,\u001b[0m \u001b[0mconfig\u001b[0m\u001b[0;34m:\u001b[0m \u001b[0mDict\u001b[0m\u001b[0;34m[\u001b[0m\u001b[0mstr\u001b[0m\u001b[0;34m,\u001b[0m \u001b[0mAny\u001b[0m\u001b[0;34m]\u001b[0m\u001b[0;34m)\u001b[0m\u001b[0;34m:\u001b[0m\u001b[0;34m\u001b[0m\u001b[0;34m\u001b[0m\u001b[0m\n\u001b[1;32m     81\u001b[0m         \u001b[0mapi_type\u001b[0m \u001b[0;34m=\u001b[0m \u001b[0mconfig\u001b[0m\u001b[0;34m.\u001b[0m\u001b[0mget\u001b[0m\u001b[0;34m(\u001b[0m\u001b[0;34m\"openai_api_type\"\u001b[0m\u001b[0;34m)\u001b[0m\u001b[0;34m\u001b[0m\u001b[0;34m\u001b[0m\u001b[0m\n",
            "\u001b[0;32m/usr/local/lib/python3.10/dist-packages/pydantic/deprecated/class_validators.py\u001b[0m in \u001b[0;36mroot_validator\u001b[0;34m(pre, skip_on_failure, allow_reuse, *__args)\u001b[0m\n\u001b[1;32m    226\u001b[0m     \u001b[0mmode\u001b[0m\u001b[0;34m:\u001b[0m \u001b[0mLiteral\u001b[0m\u001b[0;34m[\u001b[0m\u001b[0;34m'before'\u001b[0m\u001b[0;34m,\u001b[0m \u001b[0;34m'after'\u001b[0m\u001b[0;34m]\u001b[0m \u001b[0;34m=\u001b[0m \u001b[0;34m'before'\u001b[0m \u001b[0;32mif\u001b[0m \u001b[0mpre\u001b[0m \u001b[0;32mis\u001b[0m \u001b[0;32mTrue\u001b[0m \u001b[0;32melse\u001b[0m \u001b[0;34m'after'\u001b[0m\u001b[0;34m\u001b[0m\u001b[0;34m\u001b[0m\u001b[0m\n\u001b[1;32m    227\u001b[0m     \u001b[0;32mif\u001b[0m \u001b[0mpre\u001b[0m \u001b[0;32mis\u001b[0m \u001b[0;32mFalse\u001b[0m \u001b[0;32mand\u001b[0m \u001b[0mskip_on_failure\u001b[0m \u001b[0;32mis\u001b[0m \u001b[0;32mnot\u001b[0m \u001b[0;32mTrue\u001b[0m\u001b[0;34m:\u001b[0m\u001b[0;34m\u001b[0m\u001b[0;34m\u001b[0m\u001b[0m\n\u001b[0;32m--> 228\u001b[0;31m         raise PydanticUserError(\n\u001b[0m\u001b[1;32m    229\u001b[0m             \u001b[0;34m'If you use `@root_validator` with pre=False (the default) you MUST specify `skip_on_failure=True`.'\u001b[0m\u001b[0;34m\u001b[0m\u001b[0;34m\u001b[0m\u001b[0m\n\u001b[1;32m    230\u001b[0m             \u001b[0;34m' Note that `@root_validator` is deprecated and should be replaced with `@model_validator`.'\u001b[0m\u001b[0;34m,\u001b[0m\u001b[0;34m\u001b[0m\u001b[0;34m\u001b[0m\u001b[0m\n",
            "\u001b[0;31mPydanticUserError\u001b[0m: If you use `@root_validator` with pre=False (the default) you MUST specify `skip_on_failure=True`. Note that `@root_validator` is deprecated and should be replaced with `@model_validator`.\n\nFor further information visit https://errors.pydantic.dev/2.1.1/u/root-validator-pre-skip"
          ]
        }
      ],
      "source": [
        "experiment_name = \"/Users/unknownapple89@gmail.com/PlayingWithML\" #@param {type:\"string\"}\n",
        "\n",
        "!pip install mlflow -q\n",
        "!databricks configure --host https://community.cloud.databricks.com/\n",
        "\n",
        "import mlflow\n",
        "mlflow.set_tracking_uri(\"databricks\")\n",
        "mlflow.set_experiment(experiment_name)"
      ]
    },
    {
      "cell_type": "markdown",
      "metadata": {
        "id": "UKu1ulmXQU0e"
      },
      "source": [
        "### Device configuration"
      ]
    },
    {
      "cell_type": "code",
      "execution_count": null,
      "metadata": {
        "id": "6T_gHZKQQY6L"
      },
      "outputs": [],
      "source": [
        "# Device configuration\n",
        "device = torch.device('cuda' if torch.cuda.is_available() else 'cpu')"
      ]
    },
    {
      "cell_type": "markdown",
      "metadata": {
        "id": "AGZktls0QJ8s"
      },
      "source": [
        "## Hyperparameters"
      ]
    },
    {
      "cell_type": "code",
      "execution_count": null,
      "metadata": {
        "id": "ZAOTbHc-QHmV"
      },
      "outputs": [],
      "source": [
        "input_size = 5\n",
        "output_size = 1\n",
        "hidden_size = 2\n",
        "num_epochs = 10\n",
        "batch_size = 4\n",
        "learning_rate = 0.001\n"
      ]
    },
    {
      "cell_type": "markdown",
      "metadata": {
        "id": "YNXXRfkeQgU3"
      },
      "source": [
        "## Data"
      ]
    },
    {
      "cell_type": "markdown",
      "metadata": {
        "id": "VmebdNFxQkSY"
      },
      "source": [
        "### Import data"
      ]
    },
    {
      "cell_type": "code",
      "execution_count": null,
      "metadata": {
        "id": "q-t0YKaJQmXw"
      },
      "outputs": [],
      "source": [
        "class LinearDataset(Dataset):\n",
        "  def __init__(self, train):\n",
        "    self.x = []\n",
        "    self.y = []\n",
        "    self.x_test = []\n",
        "    self.y_test = []\n",
        "    self.train = train\n",
        "\n",
        "    # Includes test and training data\n",
        "    num_samples = 50\n",
        "\n",
        "    full_graph = torch.tensor([2*(i) for i in range(num_samples + input_size + output_size)], dtype=torch.float32)\n",
        "\n",
        "    for i in range(len(full_graph) - input_size - output_size):\n",
        "      if i%10 != 0:\n",
        "        self.x.append(full_graph[i : i+input_size])\n",
        "        self.y.append(full_graph[i+input_size : i+input_size+output_size])\n",
        "      else:\n",
        "        self.x_test.append(full_graph[i : i+input_size])\n",
        "        self.y_test.append(full_graph[i+input_size : i+input_size+output_size])\n",
        "\n",
        "  def __getitem__(self, index):\n",
        "    if self.train:\n",
        "      return self.x[index], self.y[index]\n",
        "    else:\n",
        "      return self.x_test[index], self.y_test[index]\n",
        "\n",
        "  def __len__(self):\n",
        "    if self.train:\n",
        "      return len(self.x)\n",
        "    else:\n",
        "      return len(self.x_test)\n",
        "\n",
        "\n",
        "training_dataset = LinearDataset(train=True)\n",
        "testing_dataset = LinearDataset(train=False)\n",
        "\n",
        "train_loader = DataLoader(dataset=training_dataset, batch_size=batch_size, shuffle=True)\n",
        "test_loader = DataLoader(dataset=testing_dataset, batch_size=batch_size, shuffle=False)\n",
        "\n",
        "total_samples = len(training_dataset)\n",
        "\n",
        "print(\"Length of training data:\", len(training_dataset))\n",
        "print(\"Length of test data:\", len(testing_dataset))"
      ]
    },
    {
      "cell_type": "markdown",
      "metadata": {
        "id": "TpHi9TcTQnSo"
      },
      "source": [
        "### Visualise data"
      ]
    },
    {
      "cell_type": "code",
      "execution_count": null,
      "metadata": {
        "id": "-cjkG2uvQpKo"
      },
      "outputs": [],
      "source": [
        "dataiter = iter(train_loader)\n",
        "(inputs, labels) = next(dataiter)\n",
        "for i in range(batch_size):\n",
        "  plt.subplot(2,math.ceil(batch_size/2),i+1)\n",
        "  print(inputs[i])\n",
        "  print(labels[i])\n",
        "  plt.plot(inputs[i], 'b+')\n",
        "  plt.plot(input_size, labels[i], 'r+')\n",
        "\n",
        "plt.show()"
      ]
    },
    {
      "cell_type": "markdown",
      "metadata": {
        "id": "zg-NMY50dmW4"
      },
      "source": [
        "## Other function definitions"
      ]
    },
    {
      "cell_type": "code",
      "execution_count": null,
      "metadata": {
        "id": "cd9vetTqdpwl"
      },
      "outputs": [],
      "source": [
        "def get_test_loss(model, test_loader):\n",
        "    with torch.no_grad():\n",
        "      for i, (test_inputs, test_labels) in enumerate(test_loader):\n",
        "          test_outputs = model(test_inputs)\n",
        "          test_loss = criterion(test_outputs, test_labels)\n",
        "      return test_loss"
      ]
    },
    {
      "cell_type": "markdown",
      "metadata": {
        "id": "zMxs9XclQxQB"
      },
      "source": [
        "## Model"
      ]
    },
    {
      "cell_type": "markdown",
      "metadata": {
        "id": "tdqBF3gDQzOp"
      },
      "source": [
        "### Model definition"
      ]
    },
    {
      "cell_type": "code",
      "execution_count": null,
      "metadata": {
        "id": "F4P10KAxQ0eY"
      },
      "outputs": [],
      "source": [
        "# Fully connected neural network with one hidden layer\n",
        "class NeuralNet(nn.Module):\n",
        "    def __init__(self, input_size, hidden_size, output_size):\n",
        "        super(NeuralNet, self).__init__()\n",
        "        self.input_size = input_size\n",
        "        self.l1 = nn.Linear(input_size, hidden_size)\n",
        "        self.relu = nn.ReLU()\n",
        "        self.l2 = nn.Linear(hidden_size, output_size)\n",
        "\n",
        "    def forward(self, x):\n",
        "        out = self.l1(x)\n",
        "        out = self.relu(out)\n",
        "        out = self.l2(out)\n",
        "        # no activation and no softmax at the end\n",
        "        return out"
      ]
    },
    {
      "cell_type": "markdown",
      "metadata": {
        "id": "5edj7rcuQ-rT"
      },
      "source": [
        "### Model, loss and optimiser"
      ]
    },
    {
      "cell_type": "code",
      "execution_count": null,
      "metadata": {
        "id": "DUVDczgXRBBb"
      },
      "outputs": [],
      "source": [
        "model = NeuralNet(input_size, hidden_size, output_size).to(device)\n",
        "\n",
        "loss_history = []\n",
        "test_history = []\n",
        "\n",
        "print(model.parameters)\n",
        "\n",
        "print(\"------------------\")\n",
        "\n",
        "print(model.parameters()[\"l1\"])\n",
        "\n",
        "print(\"------------------\")\n",
        "\n",
        "\n",
        "for p in model.parameters():\n",
        "  print(\"\\n###################\\n\")\n",
        "  print(p)\n",
        "\n",
        "# Loss and optimizer\n",
        "criterion = nn.MSELoss()\n",
        "optimizer = torch.optim.Adam(model.parameters(), lr=learning_rate)"
      ]
    },
    {
      "cell_type": "markdown",
      "metadata": {
        "id": "jz_ReLJkRNO8"
      },
      "source": [
        "## Training loop"
      ]
    },
    {
      "cell_type": "code",
      "execution_count": null,
      "metadata": {
        "id": "XVAwD28qROwN"
      },
      "outputs": [],
      "source": [
        "# Train the model\n",
        "n_total_steps = len(train_loader)\n",
        "test_history.append(get_test_loss(model, test_loader))\n",
        "\n",
        "for epoch in range(num_epochs):\n",
        "    loss_history.append([])\n",
        "    for i, (inputs, labels) in enumerate(train_loader):\n",
        "        inputs = inputs.to(device)\n",
        "        labels = labels.to(device)\n",
        "\n",
        "        # Forward pass\n",
        "        outputs = model(inputs)\n",
        "        loss = criterion(outputs, labels)\n",
        "\n",
        "        # Backward and optimize\n",
        "        optimizer.zero_grad()\n",
        "        loss.backward()\n",
        "        optimizer.step()\n",
        "\n",
        "        loss_history[-1].append(loss)\n",
        "\n",
        "        if (i+1) % (n_total_steps//1) == 0:\n",
        "            print (f'Epoch [{epoch+1}/{num_epochs}], Step [{i+1}/{n_total_steps}], Loss: {loss.item():.4f}')\n",
        "\n",
        "    # Find loss on test data\n",
        "    test_history.append(get_test_loss(model, test_loader))"
      ]
    },
    {
      "cell_type": "markdown",
      "metadata": {
        "id": "Tz1dw54zRR9G"
      },
      "source": [
        "## Testing"
      ]
    },
    {
      "cell_type": "markdown",
      "metadata": {
        "id": "yXoUfMp_vMWU"
      },
      "source": [
        "### Loss graph"
      ]
    },
    {
      "cell_type": "code",
      "execution_count": null,
      "metadata": {
        "id": "jE9pDsdlRTAl"
      },
      "outputs": [],
      "source": [
        "# Test the model\n",
        "# In test phase, we don't need to compute gradients (for memory efficiency)\n",
        "first_epoch_shown = 2\n",
        "last_epoch_shown = 10\n",
        "\n",
        "fig, ax = plt.subplots()\n",
        "\n",
        "last_plotted_point = [loss_history[0][0]]\n",
        "\n",
        "with torch.no_grad():\n",
        "  # Plot the data from the given epoch. Also plots the last datapoint from the previous epoch so the lines join nicely\n",
        "  epoch_length = len(loss_history[0])\n",
        "  for epoch, loss_hist_epoch in enumerate(loss_history):\n",
        "    if epoch_length != len(loss_hist_epoch):\n",
        "      print(\"Epoch length changes\")\n",
        "\n",
        "    if epoch >= first_epoch_shown and epoch <= min(last_epoch_shown, len(loss_history)):\n",
        "      start_epoch_step = epoch * epoch_length\n",
        "      start_next_epoch_step = (epoch+1) * epoch_length\n",
        "      # Plot loss graph of training data\n",
        "      ax.plot(list(range(start_epoch_step-1, start_next_epoch_step)), last_plotted_point + loss_hist_epoch)\n",
        "\n",
        "    last_plotted_point = [loss_hist_epoch[-1]]\n",
        "\n",
        "  ax.plot(list(range(first_epoch_shown*len(), last_epoch_shown)), test_history)\n",
        "\n",
        "  ax.set_xlabel(\"Steps\")\n",
        "  ax.set_ylabel(\"Loss\")\n",
        "  secax = ax.secondary_xaxis('top', functions=(lambda x: x/len(loss_hist_epoch), lambda x: x*len(loss_hist_epoch)))\n",
        "  secax.set_xlabel(\"Epochs\")\n",
        "  plt.show()"
      ]
    },
    {
      "cell_type": "markdown",
      "metadata": {
        "id": "Mpv_8mxMvOpl"
      },
      "source": [
        "### Final model prediction on test data"
      ]
    },
    {
      "cell_type": "code",
      "execution_count": null,
      "metadata": {
        "id": "o2NFY6qkvUHK"
      },
      "outputs": [],
      "source": [
        "with torch.no_grad():\n",
        "    outputs = model(inputs)"
      ]
    },
    {
      "cell_type": "markdown",
      "metadata": {
        "id": "swWnklg94Ej4"
      },
      "source": [
        "## Test functions"
      ]
    },
    {
      "cell_type": "code",
      "execution_count": null,
      "metadata": {
        "id": "2NAhMNrk4IY_"
      },
      "outputs": [],
      "source": [
        "a = nn.ReLU(2.5)\n",
        "print(a(torch.tensor([-1, 1, 3])))\n",
        "\n",
        "b = NeuralNet(1, 2, 3)\n",
        "print(b)\n",
        "for p in b.parameters():\n",
        "  print(p)\n",
        "print(\"\\n\")\n",
        "print(b.relu(torch.tensor([-1, 2, 3])))"
      ]
    },
    {
      "cell_type": "code",
      "execution_count": null,
      "metadata": {
        "id": "TJKDYAPwj1Zx"
      },
      "outputs": [],
      "source": [
        "mlflow.log_param(\"num_dimensions\", 8)\n",
        "!mlflow ui"
      ]
    }
  ],
  "metadata": {
    "colab": {
      "collapsed_sections": [
        "2sTFQGl9nlA7",
        "Ck9CSPgF0Mtd",
        "YNXXRfkeQgU3",
        "VmebdNFxQkSY",
        "TpHi9TcTQnSo",
        "tdqBF3gDQzOp"
      ],
      "provenance": [],
      "authorship_tag": "ABX9TyNYsdLIhGWV1DofU/S78rg7",
      "include_colab_link": true
    },
    "kernelspec": {
      "display_name": "Python 3",
      "name": "python3"
    },
    "language_info": {
      "name": "python"
    }
  },
  "nbformat": 4,
  "nbformat_minor": 0
}